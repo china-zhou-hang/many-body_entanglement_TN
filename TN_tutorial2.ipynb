{
 "cells": [
  {
   "cell_type": "markdown",
   "id": "59ef8379",
   "metadata": {},
   "source": [
    "### Many-body Entanglement and Tensor Networks\n",
    "Tutorials based on the 2017 Perimeter Scholar International Condensed Matter Review course taught by Guifre Vidal"
   ]
  },
  {
   "cell_type": "markdown",
   "id": "e1a6c9fc",
   "metadata": {},
   "source": [
    "# <span style=\"color:#0C45A9\">Python tutorial 2 </span>"
   ]
  },
  {
   "cell_type": "markdown",
   "id": "f39200a0",
   "metadata": {},
   "source": [
    "In this notebook we will first solve the ground-state energy of the quantum Ising model for 3 spins through exact diagonalisation of the Hamiltonian. Secondly, we will look at a larger quantum Ising system and explore the energy levels. Finally we will slightly modify our Hamiltonian parameters and "
   ]
  },
  {
   "cell_type": "markdown",
   "id": "d219296c",
   "metadata": {},
   "source": [
    "## 2.1. Quantum Ising model on $N=3$ spins"
   ]
  },
  {
   "cell_type": "markdown",
   "id": "b460e96d",
   "metadata": {},
   "source": [
    "The Hamiltonian (with PBC) for this system is: $H = \\sigma^x_1 \\otimes \\sigma^x_2 + \\sigma^x_2 \\otimes \\sigma^x_3 +  \\sigma^x_3 \\otimes \\sigma^x_1 + h\\left( \\sigma^z_1 + \\sigma^z_2 + \\sigma^z_3\\right) $"
   ]
  },
  {
   "cell_type": "markdown",
   "id": "a8c82f91",
   "metadata": {},
   "source": [
    "### 2.1.1. Builiding the Hamiltonian"
   ]
  },
  {
   "cell_type": "code",
   "execution_count": 1,
   "id": "2fb8ee04",
   "metadata": {},
   "outputs": [],
   "source": [
    "import numpy as np\n",
    "\n",
    "I = np.eye(2) #2x2 identity matrix\n",
    "II = np.eye(4) #4x4 identity matrix\n",
    "X = np.array([[0,1],[1,0]]) #Pauli-X\n",
    "Z = np.array([[1,0],[0,-1]]) #Pauli-Z\n",
    "XX = np.kron(X,X) "
   ]
  },
  {
   "cell_type": "markdown",
   "id": "1577b23d",
   "metadata": {},
   "source": [
    "Let's get the terms of our Hamiltonian"
   ]
  },
  {
   "cell_type": "code",
   "execution_count": 2,
   "id": "e1c5a8c0",
   "metadata": {},
   "outputs": [],
   "source": [
    "H_XX = np.kron(XX,I) + np.kron(I, XX) + np.kron(X,np.kron(I,X)) #XX terms\n",
    "H_Z = np.kron(Z,II) + np.kron(I,np.kron(Z,I)) + np.kron(II,Z) #Z terms"
   ]
  },
  {
   "cell_type": "markdown",
   "id": "2d8bf9bd",
   "metadata": {},
   "source": [
    "### 2.1.2. Ground-state: exact diagonalisation"
   ]
  },
  {
   "cell_type": "markdown",
   "id": "07cc8edb",
   "metadata": {},
   "source": [
    "Get a list of possible values of the magnetic field $h$:"
   ]
  },
  {
   "cell_type": "code",
   "execution_count": null,
   "id": "cb107b66",
   "metadata": {},
   "outputs": [],
   "source": [
    "h_values = np.linspace(0,2,20)"
   ]
  },
  {
   "cell_type": "markdown",
   "id": "4c012b31",
   "metadata": {},
   "source": [
    "For all the values of $h$, solve by exactly diagonalising and store the ground-state energy $E_0$:"
   ]
  },
  {
   "cell_type": "code",
   "execution_count": 7,
   "id": "4af7f1cd",
   "metadata": {},
   "outputs": [],
   "source": [
    "E_0_values = []\n",
    "\n",
    "for h in h_values:\n",
    "    H = H_XX + h*H_Z #build the Hamiltonian\n",
    "    D, U = np.linalg.eig(H)\n",
    "    E_0_values.append(min(D)) #store the ground-state energy"
   ]
  },
  {
   "cell_type": "markdown",
   "id": "7f572796",
   "metadata": {},
   "source": [
    "#### Visualise ground-state energy"
   ]
  },
  {
   "cell_type": "code",
   "execution_count": 10,
   "id": "2d851c85",
   "metadata": {},
   "outputs": [
    {
     "name": "stderr",
     "output_type": "stream",
     "text": [
      "/Users/sofiagonzalez/opt/anaconda3/lib/python3.9/site-packages/matplotlib/cbook/__init__.py:1298: ComplexWarning: Casting complex values to real discards the imaginary part\n",
      "  return np.asarray(x, float)\n"
     ]
    },
    {
     "data": {
      "image/png": "[encoded data removed]",
      "text/plain": [
       "<Figure size 792x648 with 1 Axes>"
      ]
     },
     "metadata": {
      "needs_background": "light"
     },
     "output_type": "display_data"
    }
   ],
   "source": [
    "import matplotlib.pyplot as plt\n",
    "\n",
    "import warnings\n",
    "warnings.filterwarnings('ignore')\n",
    "\n",
    "plt.title(\"Quantum Ising model ground-state energy for $N=3$ spins\")\n",
    "plt.grid()\n",
    "plt.ylabel(\"Energy, $E$\")\n",
    "plt.xlabel(\"magnetic field, $h$\")\n",
    "plt.plot(h_values, E_0_values, ls = '-', marker = '.')\n",
    "plt.rcParams[\"figure.figsize\"] = (11,8)\n",
    "plt.show()"
   ]
  },
  {
   "cell_type": "markdown",
   "id": "9f50b69a",
   "metadata": {},
   "source": [
    "## 2.2. Generalisation: Quantum Ising model on $N$ spins"
   ]
  },
  {
   "cell_type": "markdown",
   "id": "f65dd455",
   "metadata": {},
   "source": [
    "The Ising model general Hamiltonian is: $H_{TFIM} = -\\sum_{\\langle m,n \\rangle} \\sigma_m^x\\sigma_n^x - h\\sum_{m=1}^N\\sigma_m^z$."
   ]
  },
  {
   "cell_type": "markdown",
   "id": "81e03c96",
   "metadata": {},
   "source": [
    "### 2.2.1. Building the Hamiltonian"
   ]
  },
  {
   "cell_type": "markdown",
   "id": "02cb66c3",
   "metadata": {},
   "source": [
    "We define a function to build the quantum Ising Hamiltonian for $N$ spins. This first builds Hamiltonian for 2 spins and add terms up to $N$. We will limit our calculation to $N\\leq10$."
   ]
  },
  {
   "cell_type": "code",
   "execution_count": null,
   "id": "347a6c8c",
   "metadata": {},
   "outputs": [],
   "source": [
    "def qIsingH(N, h, bc = 1): #bc = 1 PBC, =-1 APBC\n",
    "    I = np.eye(2) #2x2 identity matrix\n",
    "    X = np.array([[0,1],[1,0]]) #Pauli-X\n",
    "    Z = np.array([[1,0],[0,-1]]) #Pauli-Z\n",
    "    XX = np.kron(X,X) \n",
    "    H = -XX - h*(np.kron(Z,I) + np.kron(I,Z)) #Hamiltonian for N=2\n",
    "    \n",
    "    for n in range(3,(N+1)):\n",
    "        H = np.kron(H,I)-np.kron(np.eye(2**(n-2)),XX)-h*np.kron(np.eye(2**(n-1)),Z)\n",
    "\n",
    "    H = H - bc*np.kron(X,np.kron(np.eye(2**(N-2)),X))\n",
    "    \n",
    "    return H"
   ]
  },
  {
   "cell_type": "markdown",
   "id": "fb5de199",
   "metadata": {},
   "source": [
    "### 2.2.2. Energy spectrum: exact diagonalisation"
   ]
  },
  {
   "cell_type": "code",
   "execution_count": null,
   "id": "991d9a66",
   "metadata": {},
   "outputs": [],
   "source": [
    "N=8  # spin chain size N=10 and Nh = 21 takes approx 10 seconds\n",
    "h_max = 2 # range of magnetic field\n",
    "h_values = np.linspace(0,h_max,20) #magnetic field values\n",
    "bc = -1\n",
    "\n",
    "E_0_values = []\n",
    "E_spectrums = []\n",
    "\n",
    "for h in h_values:\n",
    "    H = qIsingH(N, h, bc) #build the Hamiltonian\n",
    "    D, U = np.linalg.eig(H)\n",
    "    E_spectrums.append(np.sort(D))\n",
    "    E_0_values.append(min(D)) #store the ground-state energy"
   ]
  },
  {
   "cell_type": "markdown",
   "id": "541c25a6",
   "metadata": {},
   "source": [
    "#### Visualise energy spectrum"
   ]
  },
  {
   "cell_type": "code",
   "execution_count": null,
   "id": "07cdbc04",
   "metadata": {},
   "outputs": [],
   "source": [
    "plt.title(\"Quantum Ising model energy spectrum ~ $N=$%s, bc=%s\" %(N,bc))\n",
    "plt.grid()\n",
    "plt.ylabel(\"Energy, $E$\")\n",
    "plt.xlabel(\"magnetic field, $h$\")\n",
    "plt.plot(h_values, np.array(E_spectrums)[:,0], ls='-', marker='.', lw=2.5, ms=10, c=\"red\", label=\"ground-state\")\n",
    "for i in range(1, np.shape(E_spectrums)[1]):\n",
    "    plt.plot(h_values, np.array(E_spectrums)[:,i], ls='-', marker='.', lw=0.9)\n",
    "plt.legend()\n",
    "plt.rcParams[\"figure.figsize\"] = (16,8)\n",
    "plt.show()"
   ]
  },
  {
   "cell_type": "markdown",
   "id": "59f55811",
   "metadata": {},
   "source": [
    "### 2.2.3. Different interaction and field terms"
   ]
  },
  {
   "cell_type": "markdown",
   "id": "a5a34343",
   "metadata": {},
   "source": [
    "We modify our Hamiltonian slightly and change the interaction and field terms such that: $H(\\theta) = -\\cos \\theta \\sum \\sigma_m^x \\sigma_{m+1}^x - \\sin\\theta \\sum \\sigma_m^z$"
   ]
  },
  {
   "cell_type": "code",
   "execution_count": null,
   "id": "fe662f5f",
   "metadata": {},
   "outputs": [],
   "source": [
    "def qIsingH_theta(N, theta, bc = 1): #bc = 1 PBC, =-1 APBC\n",
    "    I = np.eye(2) #2x2 identity matrix\n",
    "    X = np.array([[0,1],[1,0]]) #Pauli-X\n",
    "    Z = np.array([[1,0],[0,-1]]) #Pauli-Z\n",
    "    XX = np.kron(X,X) \n",
    "    \n",
    "    H = -np.cos(theta)*XX - np.sin(theta)*(np.kron(Z,I) + np.kron(I,Z)) #Hamiltonian for N=2\n",
    "    \n",
    "    for n in range(3,(N+1)):\n",
    "        H = np.kron(H,I)-np.cos(theta)*np.kron(np.eye(2**(n-2)),XX)- np.sin(theta)*np.kron(np.eye(2**(n-1)),Z)\n",
    "\n",
    "    H = H - bc*np.cos(theta)*np.kron(X,np.kron(np.eye(2**(N-2)),X))\n",
    "    \n",
    "    return H"
   ]
  },
  {
   "cell_type": "markdown",
   "id": "9d67beb2",
   "metadata": {},
   "source": [
    "#### Energy spectrum: exact diagonalisation"
   ]
  },
  {
   "cell_type": "code",
   "execution_count": null,
   "id": "9c1358ae",
   "metadata": {},
   "outputs": [],
   "source": [
    "N=8  # spin chain size N=10 and Nh = 21 takes approx 10 seconds\n",
    "theta_max = np.pi/2 # range of magnetic field\n",
    "theta_values = np.linspace(0,theta_max,20) #magnetic field values\n",
    "bc = -1\n",
    "\n",
    "E_0_values = []\n",
    "E_spectrums = []\n",
    "\n",
    "for theta in theta_values:\n",
    "    H = qIsingH_theta(N, theta, bc) #build the Hamiltonian\n",
    "    D, U = np.linalg.eig(H)\n",
    "    E_spectrums.append(np.sort(D))\n",
    "    E_0_values.append(min(D)) #store the ground-state energy"
   ]
  },
  {
   "cell_type": "markdown",
   "id": "b8b72b2d",
   "metadata": {},
   "source": [
    "#### Visualise energy spectrum"
   ]
  },
  {
   "cell_type": "code",
   "execution_count": null,
   "id": "fc1d72f2",
   "metadata": {},
   "outputs": [],
   "source": [
    "plt.title(\"Quantum Ising model energy spectrum ~ $N=$%s, bc=%s\" %(N,bc))\n",
    "plt.grid()\n",
    "plt.ylabel(\"Energy, $E$\")\n",
    "plt.xlabel(\"theta, $\\theta$\")\n",
    "plt.plot(theta_values, np.array(E_spectrums)[:,0], ls='-', marker='.', lw=2.5, ms=10, c=\"red\", label=\"ground-state\")\n",
    "for i in range(1, np.shape(E_spectrums)[1]):\n",
    "    plt.plot(theta_values, np.array(E_spectrums)[:,i], ls='-', marker='.', lw=0.9)\n",
    "plt.legend()\n",
    "plt.rcParams[\"figure.figsize\"] = (16,8)\n",
    "plt.show()"
   ]
  }
 ],
 "metadata": {
  "kernelspec": {
   "display_name": "Python 3 (ipykernel)",
   "language": "python",
   "name": "python3"
  },
  "language_info": {
   "codemirror_mode": {
    "name": "ipython",
    "version": 3
   },
   "file_extension": ".py",
   "mimetype": "text/x-python",
   "name": "python",
   "nbconvert_exporter": "python",
   "pygments_lexer": "ipython3",
   "version": "3.9.7"
  }
 },
 "nbformat": 4,
 "nbformat_minor": 5
}
