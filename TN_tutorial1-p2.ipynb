{
 "cells": [
  {
   "cell_type": "markdown",
   "id": "59ef8379",
   "metadata": {},
   "source": [
    "### Many-body Entanglement and Tensor Networks\n",
    "Tutorials based on the 2017 Perimeter Scholar International Condensed Matter Review course taught by Guifre Vidal"
   ]
  },
  {
   "cell_type": "markdown",
   "id": "e1a6c9fc",
   "metadata": {},
   "source": [
    "# <span style=\"color:#0C45A9\">Python tutorial 1 - part 2 </span>"
   ]
  },
  {
   "cell_type": "markdown",
   "id": "f39200a0",
   "metadata": {},
   "source": [
    "This is the second part of tutorial 1. In this notebook we will solve the ground-state energy of the quantum Ising model for 3 spins through exact diagonalisation of the Hamiltonian."
   ]
  },
  {
   "cell_type": "markdown",
   "id": "aba6aa4c",
   "metadata": {},
   "source": [
    "## 1.4. Quantum Ising model on $N=3$ spins"
   ]
  },
  {
   "cell_type": "markdown",
   "id": "06f7f211",
   "metadata": {},
   "source": [
    "The Hamiltonian for this system is: $H = \\sigma^x_1 \\otimes \\sigma^x_2 + \\sigma^x_2 \\otimes \\sigma^x_3 +  \\sigma^x_3 \\otimes \\sigma^x_1 + h\\left( \\sigma^z_1 + \\sigma^z_2 + \\sigma^z_3\\right) $"
   ]
  },
  {
   "cell_type": "code",
   "execution_count": 1,
   "id": "a25e84e9",
   "metadata": {},
   "outputs": [],
   "source": [
    "import numpy as np\n",
    "\n",
    "I = np.eye(2) #2x2 identity matrix\n",
    "II = np.eye(4) #4x4 identity matrix\n",
    "X = np.array([[0,1],[1,0]]) #Pauli-X\n",
    "Z = np.array([[1,0],[0,-1]]) #Pauli-Z\n",
    "XX = np.kron(X,X) "
   ]
  },
  {
   "cell_type": "markdown",
   "id": "9d2cb953",
   "metadata": {},
   "source": [
    "Let's get the terms of our Hamiltonian"
   ]
  },
  {
   "cell_type": "code",
   "execution_count": 2,
   "id": "145cf60d",
   "metadata": {},
   "outputs": [],
   "source": [
    "H_XX = np.kron(XX,I) + np.kron(I, XX) + np.kron(X,np.kron(I,X)) #XX terms\n",
    "H_Z = np.kron(Z,II) + np.kron(I,np.kron(Z,I)) + np.kron(II,Z) #Z terms"
   ]
  },
  {
   "cell_type": "markdown",
   "id": "660994f7",
   "metadata": {},
   "source": [
    "Get a list of possible values of the magnetic field $h$:"
   ]
  },
  {
   "cell_type": "code",
   "execution_count": 3,
   "id": "4dc7bee5",
   "metadata": {},
   "outputs": [],
   "source": [
    "h_values = np.linspace(0,2,20)"
   ]
  },
  {
   "cell_type": "markdown",
   "id": "3bc17ae7",
   "metadata": {},
   "source": [
    "For all the values of $h$, solve by exactly diagonalising and store the ground-state energy $E_0$:"
   ]
  },
  {
   "cell_type": "code",
   "execution_count": 4,
   "id": "df9258df",
   "metadata": {},
   "outputs": [],
   "source": [
    "E_0_values = []\n",
    "\n",
    "for h in h_values:\n",
    "    H = H_XX + h*H_Z #build the Hamiltonian\n",
    "    D, U = np.linalg.eig(H)\n",
    "    E_0_values.append(min(D)) #store the ground-state energy"
   ]
  },
  {
   "cell_type": "code",
   "execution_count": 5,
   "id": "670d655b",
   "metadata": {},
   "outputs": [
    {
     "name": "stderr",
     "output_type": "stream",
     "text": [
      "/Users/sofiagonzalez/opt/anaconda3/lib/python3.9/site-packages/matplotlib/cbook/__init__.py:1298: ComplexWarning: Casting complex values to real discards the imaginary part\n",
      "  return np.asarray(x, float)\n"
     ]
    },
    {
     "data": {
      "image/png": "[encoded data removed]",
      "text/plain": [
       "<Figure size 432x288 with 1 Axes>"
      ]
     },
     "metadata": {
      "needs_background": "light"
     },
     "output_type": "display_data"
    }
   ],
   "source": [
    "import matplotlib.pyplot as plt\n",
    "\n",
    "plt.title(\"Quantum Ising model ground-state energy for $N=3$ spins\")\n",
    "plt.grid()\n",
    "plt.ylabel(\"ground-state energy, $E_0$\")\n",
    "plt.xlabel(\"magnetic field, $h$\")\n",
    "plt.plot(h_values, E_0_values, ls = '-', marker = '.')\n",
    "\n",
    "plt.show()"
   ]
  }
 ],
 "metadata": {
  "kernelspec": {
   "display_name": "Python 3 (ipykernel)",
   "language": "python",
   "name": "python3"
  },
  "language_info": {
   "codemirror_mode": {
    "name": "ipython",
    "version": 3
   },
   "file_extension": ".py",
   "mimetype": "text/x-python",
   "name": "python",
   "nbconvert_exporter": "python",
   "pygments_lexer": "ipython3",
   "version": "3.9.7"
  }
 },
 "nbformat": 4,
 "nbformat_minor": 5
}
