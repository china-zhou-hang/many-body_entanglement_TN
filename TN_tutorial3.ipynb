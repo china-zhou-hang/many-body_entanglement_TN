{
 "cells": [
  {
   "cell_type": "markdown",
   "id": "59ef8379",
   "metadata": {},
   "source": [
    "### Many-body Entanglement and Tensor Networks\n",
    "Tutorials based on the 2017 Perimeter Scholar International Condensed Matter Review course taught by Guifre Vidal"
   ]
  },
  {
   "cell_type": "markdown",
   "id": "e1a6c9fc",
   "metadata": {},
   "source": [
    "# <span style=\"color:#0C45A9\">Python tutorial 3</span>"
   ]
  },
  {
   "cell_type": "markdown",
   "id": "f39200a0",
   "metadata": {},
   "source": [
    "In this tutorial we will obtain universal conformal field theory data from our quantum Ising spin chain model. We will observe finite size effects which originate from the numerical simulation, and would fade as $N\\to\\infty$. <br>\n",
    "We will do this by **simultaneously diagonalising** $H,T,S$: the Hamiltonian ($H$), the translation operator ($T$) and the spin flip operator ($S$), since they are symmetries of the sytem:<br>\n",
    "<br>\n",
    "<center> $H \\left\\vert \\psi_{\\alpha} \\right \\rangle = E_{\\alpha}\\left\\vert \\psi_{\\alpha} \\right \\rangle  $ <center> \n",
    "    <br>\n",
    "<center> $T \\left\\vert \\psi_{\\alpha} \\right \\rangle = e^{ik_{\\alpha}}\\left\\vert \\psi_{\\alpha} \\right \\rangle  $ <center>\n",
    "    <br>\n",
    "<center> $S \\left\\vert \\psi_{\\alpha} \\right \\rangle = (-1)^{p_{\\alpha}}\\left\\vert \\psi_{\\alpha} \\right \\rangle  $ <center> <br>\n",
    "    \n",
    "From the diagonalisation , we can get $E_{\\alpha}$, $k_{\\alpha}$ and. $p_{\\alpha}$ from: <br>\n",
    "<center> $ E_{\\alpha} = \\left \\langle  \\psi_{\\alpha} \\right \\vert H \\left\\vert \\psi_{\\alpha} \\right \\rangle $<center>\n",
    "<br>\n",
    "<center> $ e^{ik_{\\alpha}} = \\left \\langle  \\psi_{\\alpha} \\right \\vert T \\left\\vert \\psi_{\\alpha} \\right \\rangle \\; \\to \\; k_{\\alpha}= \\text{angle}\\left( \\left \\langle  \\psi_{\\alpha} \\right \\vert T \\left\\vert \\psi_{\\alpha} \\right \\rangle\\right) $ <center>\n",
    "<br>\n",
    "<center> $ p_{\\alpha} = \\frac{1-\\left \\langle  \\psi_{\\alpha} \\right \\vert S \\left\\vert \\psi_{\\alpha} \\right \\rangle }{2} $ <center>\n",
    " <br>\n",
    "    \n",
    "Finally, we can get the CFT **scaling dimension** ($\\Delta_{\\alpha}$) and **conformal spin** ($S_{\\alpha}$): <br>\n",
    "<br>\n",
    "<center> $ E_{\\alpha} = A + \\frac{B}{N}\\left(\\Delta_{\\alpha}-\\frac{c}{12} \\right) + \\mathcal{O}\\left(\\frac{1}{N^2}\\right)  \\quad\\quad \\to  \\quad\\quad E_{\\alpha} - E_0 = \\frac{B}{N}(\\Delta_{\\alpha}-\\Delta_0)$<center>   \n",
    "    <br>\n",
    "    <center> $ k_{\\alpha} = \\frac{2\\pi}{N}S_{\\alpha} \\quad\\quad \\to \\quad\\quad \\boxed{S_{\\alpha} = \\frac{N}{2\\pi}k_{\\alpha}}$  <center>    \n",
    " <br>\n",
    " <p align=\"left\"> where we know $\\Delta_0 = 0$ and $\\Delta_1=1/8$.<br>\n",
    " However, we still don't know $B$ but we can use the relation:\n",
    " <center> $\\frac{E_{\\alpha}-E_0}{E_1-E_0}=\\frac{\\Delta_{\\alpha}-\\Delta_0}{\\Delta_1-\\Delta_0}=\\frac{\\Delta_{\\alpha}}{\\Delta_1}=8\\Delta_{\\alpha} \\quad \\to \\quad \\boxed{\\Delta_{\\alpha} = \\frac{1}{8}\\frac{E_{\\alpha}-E_0}{E_1-E_0}}$. <br>\n",
    " In this notebook we won't fully diagonalise our matrices, but we will use spa"
   ]
  },
  {
   "cell_type": "markdown",
   "id": "03f2bc70",
   "metadata": {},
   "source": [
    "## 3.1. Conformal field theory (CFT) data for PBC quantum Ising model on $N$ spins"
   ]
  },
  {
   "cell_type": "markdown",
   "id": "15d0ab81",
   "metadata": {},
   "source": [
    "Define the Hamiltonian for the quantum Ising model as per the previous tutorial."
   ]
  },
  {
   "cell_type": "code",
   "execution_count": 1,
   "id": "903a9b8f",
   "metadata": {},
   "outputs": [],
   "source": [
    "import numpy as np\n",
    "\n",
    "def qIsingH(N, h, bc = 1): #bc = 1 PBC, =-1 APBC\n",
    "    I = np.eye(2) #2x2 identity matrix\n",
    "    X = np.array([[0,1],[1,0]]) #Pauli-X\n",
    "    Z = np.array([[1,0],[0,-1]]) #Pauli-Z\n",
    "    XX = np.kron(X,X) \n",
    "    H = -XX - h*(np.kron(Z,I) + np.kron(I,Z)) #Hamiltonian for N=2\n",
    "    \n",
    "    for n in range(3,(N+1)):\n",
    "        H = np.kron(H,I)-np.kron(np.eye(2**(n-2)),XX)-h*np.kron(np.eye(2**(n-1)),Z)\n",
    "\n",
    "    H = H - bc*np.kron(X,np.kron(np.eye(2**(N-2)),X))\n",
    "    \n",
    "    return H"
   ]
  },
  {
   "cell_type": "markdown",
   "id": "98a70a3e",
   "metadata": {},
   "source": [
    "### 3.1.1. Translation and parity operators: symmetries"
   ]
  },
  {
   "cell_type": "markdown",
   "id": "9d9dc56e",
   "metadata": {},
   "source": [
    "#### Translation operator, $T$"
   ]
  },
  {
   "cell_type": "markdown",
   "id": "10695d2a",
   "metadata": {},
   "source": [
    "Define the translator operator $T$ which acts by mapping spin $m \\to m+1$ such that $T\\left\\vert s_1 s_2 s_3 \\right \\rangle = \\left\\vert s_3 s_1 s_2 \\right \\rangle$ and $T\\,\\sigma_m^{\\alpha}\\, T^{\\dagger}= \\sigma_{m=1}^{\\alpha}$. Our Hamiltonian is invariant under translations: $[H,T] = 0$. We also know that momentum is the generator of translations: $T \\to P_{\\alpha}$ <br>\n",
    "We will build this operator from the _SWAP_ operator on $N=2$. The _SWAP_ operator acts on two spins the following way: $SWAP\\left\\vert s_1 s_2 \\right \\rangle = \\left\\vert s_2 s_1 \\right \\rangle$."
   ]
  },
  {
   "cell_type": "code",
   "execution_count": 2,
   "id": "28236d75",
   "metadata": {},
   "outputs": [],
   "source": [
    "def T_op(N):\n",
    "    SWAP = np.array([[1,0,0,0],[0,0,1,0],[0,1,0,0],[0,0,0,1]]) #SWAP operator\n",
    "    I = np.eye(2)\n",
    "    T = SWAP\n",
    "    SWAP_N = SWAP #SWAP for N spins that we will build\n",
    "    \n",
    "    for n in range(3,(N+1)):\n",
    "        T = np.kron(T,I)\n",
    "        SWAP_N = np.kron(I, SWAP_N)\n",
    "        T = T.dot(SWAP_N)\n",
    "        \n",
    "    return T"
   ]
  },
  {
   "cell_type": "markdown",
   "id": "58334bd9",
   "metadata": {},
   "source": [
    "#### Spin flip operator, $S$"
   ]
  },
  {
   "cell_type": "markdown",
   "id": "01ce48f7",
   "metadata": {},
   "source": [
    "This operator applies the Pauli-$Z$ operator to all the qubits: $S = \\sigma_1^z \\otimes \\sigma_2^z \\otimes \\cdots \\otimes \\sigma_N^z$."
   ]
  },
  {
   "cell_type": "code",
   "execution_count": 3,
   "id": "170d3bdd",
   "metadata": {},
   "outputs": [],
   "source": [
    "def S_op(N):\n",
    "    Z = np.array([[1,0],[0,-1]]) #Pauli-Z\n",
    "    Z_2 = Z\n",
    "\n",
    "    for n in range(2,(N+1)):\n",
    "        Z_2 = np.kron(Z_2,Z)\n",
    "        \n",
    "    P = Z_2\n",
    "    return P"
   ]
  },
  {
   "cell_type": "markdown",
   "id": "411c73b3",
   "metadata": {},
   "source": [
    "### 3.1.1. Define Hamiltonian"
   ]
  },
  {
   "cell_type": "markdown",
   "id": "fd515ad2",
   "metadata": {},
   "source": [
    "We want to simulatenously diagonalise $H,T$ and $S$, so we consider $H = H+\\alpha HT + \\beta HS$. We choose $\\alpha$ and $\\beta$ such that the scales of the entries of $H$, $HT$ and $HS$ are very different. \n",
    "<br>Note that $T$ is non-hermitian, so eigenvalues can be complex."
   ]
  },
  {
   "cell_type": "code",
   "execution_count": 4,
   "id": "83133b55",
   "metadata": {},
   "outputs": [],
   "source": [
    "N = 10 #Hamiltonian will be 2^N x 2^N\n",
    "h = 1\n",
    "\n",
    "H_TFIM = qIsingH(N,h) #PBC quantum Ising\n",
    "H_TFIM -= 4*N*np.eye(2**N) #make all eigenvalues negative\n",
    "T = T_op(N)\n",
    "S = S_op(N)\n",
    "\n",
    "H_final = H_TFIM.dot(np.eye(2**N) + 0.001*T +0.00001*S)"
   ]
  },
  {
   "cell_type": "markdown",
   "id": "efa820c0",
   "metadata": {},
   "source": [
    "### 3.1.2. Sparse diagonalisation method: largest eigenvalues"
   ]
  },
  {
   "cell_type": "markdown",
   "id": "573e1beb",
   "metadata": {},
   "source": [
    "We obtain only the _num_states_ eigenvectors with smallest energy eigenvalues. This is done by using a Fortran package called _ARPACK_, which provides routines for quickly finding a few eigenvalues/eigenvectors of large sparse matrices. All of the functionality provided in _ARPACK_ is contained within the high-level interface _scipy.sparse.linalg.eigs_."
   ]
  },
  {
   "cell_type": "code",
   "execution_count": 5,
   "id": "b3ad9fe6",
   "metadata": {},
   "outputs": [],
   "source": [
    "from scipy.sparse.linalg import eigs\n",
    "\n",
    "num_states = 12\n",
    "\n",
    "D, Psi = eigs(H_final, k = num_states, which = 'LM')"
   ]
  },
  {
   "cell_type": "markdown",
   "id": "ac2f2049",
   "metadata": {},
   "source": [
    "### 3.1.3. Obtain $E_{\\alpha}$, $k_{\\alpha}$, $p_{\\alpha}$"
   ]
  },
  {
   "cell_type": "markdown",
   "id": "7d128c77",
   "metadata": {},
   "source": [
    "Evaluate the energy $E$, momentum $k$ and parity $p$ on the obtained eigenvectors. "
   ]
  },
  {
   "cell_type": "code",
   "execution_count": 7,
   "id": "d915c8f1",
   "metadata": {},
   "outputs": [],
   "source": [
    "E = np.real(np.diag((Psi.conj().T).dot(H_TFIM).dot(Psi))) + 4*N #shift back\n",
    "k = np.angle(np.diag((Psi.conj().T).dot(T).dot(Psi)))\n",
    "p = np.diag((Psi.conj().T).dot(S).dot(Psi))\n",
    "p = abs(np.real(((1-p)/2).round()))\n",
    "\n",
    "#sort from smaller to largest\n",
    "ord_idx = np.argsort(E)\n",
    "E = E[ord_idx]\n",
    "k = k[ord_idx] \n",
    "p = p[ord_idx]\n",
    "\n",
    "#remove degeneracies \n",
    "#E, unique_ix = np.unique(E, return_index=True)\n",
    "#k = k[unique_ix] \n",
    "#p = p[unique_ix]'''"
   ]
  },
  {
   "cell_type": "code",
   "execution_count": 8,
   "id": "0bc3078a",
   "metadata": {},
   "outputs": [
    {
     "name": "stdout",
     "output_type": "stream",
     "text": [
      "Energy: [-12.78490644 -12.62750303 -11.53343072 -11.39143505 -11.39143505\n",
      " -10.34320658 -10.34320658 -10.34320658 -10.34320658 -10.27636202\n",
      " -10.27636202 -10.15536707] \n",
      "Momentum: [ 0.          0.          0.         -0.62831853  0.62831853 -1.25663706\n",
      "  1.25663706 -0.62831853  0.62831853 -1.25663706  1.25663706  0.        ] \n",
      "Parity: [0. 1. 0. 1. 1. 0. 0. 0. 0. 1. 1. 1.]\n",
      "\n",
      "Unique number of eigenvalues: 8 / 12\n"
     ]
    }
   ],
   "source": [
    "print('Energy: %s \\nMomentum: %s \\nParity: %s\\n' %(E,k,p))\n",
    "E_unique = np.unique(E)\n",
    "print(\"Unique number of eigenvalues: %s / %s\" %(len(E_unique), len(E)))"
   ]
  },
  {
   "cell_type": "markdown",
   "id": "8681ed15",
   "metadata": {},
   "source": [
    "### 3.1.4. Numerical estimates of $\\Delta_{\\alpha}$ and $S_{\\alpha}$"
   ]
  },
  {
   "cell_type": "code",
   "execution_count": 9,
   "id": "8fd5e2de",
   "metadata": {},
   "outputs": [],
   "source": [
    "scaling_dim = (1/8)*(E-E[0])/(E[1]-E[0])\n",
    "conf_spin = k/(2*np.pi)*N"
   ]
  },
  {
   "cell_type": "code",
   "execution_count": 10,
   "id": "fac61c53",
   "metadata": {},
   "outputs": [
    {
     "name": "stdout",
     "output_type": "stream",
     "text": [
      "Scaling dimension: [0.         0.125      0.99384417 1.1066083  1.1066083  1.93904614\n",
      " 1.93904614 1.93904614 1.93904614 1.99212994 1.99212994 2.0882166 ] \n",
      "Conformal spin: [ 0.  0.  0. -1.  1. -2.  2. -1.  1. -2.  2.  0.]\n"
     ]
    }
   ],
   "source": [
    "print('Scaling dimension: %s \\nConformal spin: %s' %(scaling_dim, conf_spin))"
   ]
  },
  {
   "cell_type": "markdown",
   "id": "4c9d2776",
   "metadata": {},
   "source": [
    "### 3.1.5. Plot theory vs numerical CFT data comparison"
   ]
  },
  {
   "cell_type": "code",
   "execution_count": 11,
   "id": "30f7d331",
   "metadata": {},
   "outputs": [],
   "source": [
    "th_scaling_dim = [0, 1/8, 1, 1+1/8, 1+1/8, 2, 2, 2, 2, 2+1/8, 2+1/8, 2+1/8]\n",
    "th_parity = [0, 1, 0, 1, 1, 0, 0, 0, 0, 1, 1, 1]\n",
    "th_conf_spin = [0,  0,  0,  -1, 1,  -1, 1,  -2,  2,  -2,  2,  0]"
   ]
  },
  {
   "cell_type": "code",
   "execution_count": 12,
   "id": "1d4feff3",
   "metadata": {
    "scrolled": false
   },
   "outputs": [
    {
     "data": {
      "text/plain": [
       "<matplotlib.legend.Legend at 0x7f9598a06970>"
      ]
     },
     "execution_count": 12,
     "metadata": {},
     "output_type": "execute_result"
    },
    {
     "data": {
      "image/png": "[encoded data removed]",
      "text/plain": [
       "<Figure size 1296x648 with 2 Axes>"
      ]
     },
     "metadata": {
      "needs_background": "light"
     },
     "output_type": "display_data"
    }
   ],
   "source": [
    "import matplotlib.pyplot as plt\n",
    "\n",
    "fig, (ax1, ax2) = plt.subplots(1, 2, layout=\"constrained\", figsize=(18, 9))\n",
    "fig.suptitle('CFT numerical vs theoretical data\\n', fontsize=30)\n",
    "ax1.set_xlabel(r\"conformal spin, $S_{\\alpha}$\", fontsize=20)\n",
    "ax2.set_xlabel(r\"conformal spin, $S_{\\alpha}$\", fontsize=20)\n",
    "ax1.set_ylabel(r\"scaling dimension, $\\Delta_{\\alpha}$\", fontsize=20)\n",
    "ax2.set_ylabel(r\"scaling dimension, $\\Delta_{\\alpha}$\", fontsize=20)\n",
    "ax1.set_title(r'Even parity, $p=0$', fontsize=25)\n",
    "ax2.set_title(r'Odd parity, $p=1$', fontsize=25)\n",
    "ax1.tick_params(axis='both', labelsize=18)\n",
    "ax2.tick_params(axis='both', labelsize=18)\n",
    "ax1.grid()\n",
    "ax2.grid()\n",
    "ax1.set_xlim([-3, 3])\n",
    "ax2.set_xlim([-3, 3])\n",
    "ax1.set_ylim([-0.2, 2.8])\n",
    "ax2.set_ylim([-0.2, 2.8])\n",
    "ax1.text(0.07,1.07,r\"$\\epsilon$ energy density\", fontsize=20, color='grey')\n",
    "ax1.text(0.07,0.07,r\"$\\mathbb{1}$ identity\", fontsize=20, color='grey')\n",
    "ax2.text(0.07,1/8+0.07,r\"$\\sigma$ spin\", fontsize=20, color='grey')\n",
    "\n",
    "for i in range(len(th_parity)):\n",
    "    if th_parity[i] == 0:\n",
    "        ax1.plot(th_conf_spin[i], th_scaling_dim[i], marker = \"s\", color = \"y\", markeredgecolor= \"black\", ms=15)\n",
    "    elif th_parity[i] == 1:\n",
    "        ax2.plot(th_conf_spin[i], th_scaling_dim[i], marker = \"s\", color = \"y\", markeredgecolor= \"black\", ms=15)\n",
    "\n",
    "\n",
    "for i in range(num_states):\n",
    "    if p[i] == 0:\n",
    "        ax1.plot(conf_spin[i], scaling_dim[i], marker = \"o\", color = \"b\", ms=10)\n",
    "    elif p[i] == 1:\n",
    "        ax2.plot(conf_spin[i], scaling_dim[i], marker = \"o\", color = \"b\", ms=10)\n",
    "\n",
    "from matplotlib.lines import Line2D\n",
    "from matplotlib.patches import Patch\n",
    "legend_elements = [Line2D([0], [0], marker='o', color='w', label='Numerical',\n",
    "                          markerfacecolor='b', markersize=15),\n",
    "                   Patch(facecolor='y', edgecolor='black',\n",
    "                         label='Theory')]\n",
    "\n",
    "        \n",
    "ax1.legend(handles=legend_elements, fontsize=15)\n",
    "ax2.legend(handles=legend_elements, fontsize=15)\n"
   ]
  },
  {
   "cell_type": "markdown",
   "id": "6af28169",
   "metadata": {},
   "source": [
    "## 3.2. Conformal field theory (CFT) data for APBC quantum Ising model on $N$ spins"
   ]
  },
  {
   "cell_type": "markdown",
   "id": "515bf4fa",
   "metadata": {},
   "source": [
    "### 3.1.1. Define Hamiltonians"
   ]
  },
  {
   "cell_type": "code",
   "execution_count": null,
   "id": "37426b7c",
   "metadata": {},
   "outputs": [],
   "source": []
  }
 ],
 "metadata": {
  "kernelspec": {
   "display_name": "Python 3 (ipykernel)",
   "language": "python",
   "name": "python3"
  },
  "language_info": {
   "codemirror_mode": {
    "name": "ipython",
    "version": 3
   },
   "file_extension": ".py",
   "mimetype": "text/x-python",
   "name": "python",
   "nbconvert_exporter": "python",
   "pygments_lexer": "ipython3",
   "version": "3.9.7"
  }
 },
 "nbformat": 4,
 "nbformat_minor": 5
}
